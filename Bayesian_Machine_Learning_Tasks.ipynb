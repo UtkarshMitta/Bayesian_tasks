{
  "cells": [
    {
      "cell_type": "markdown",
      "id": "bead6b80",
      "metadata": {
        "id": "bead6b80"
      },
      "source": [
        "# Question 1"
      ]
    },
    {
      "cell_type": "markdown",
      "id": "9c263b1d",
      "metadata": {
        "id": "9c263b1d"
      },
      "source": [
        "CDF of frechet distribution is given by:\n",
        "\n",
        "\\begin{equation}\n",
        "    P(X\\leq x) = \\begin{cases}\n",
        "    e^{-\\frac{x}{s}^{-a}} & x>0\\\\\n",
        "    0 & x\\leq 0\n",
        "    \\end{cases}\n",
        "\\end{equation}\n",
        "\n",
        "Therefore, the Frechet distribution is given by\n",
        "\n",
        "\\begin{equation}\n",
        "    p(x)=\\begin{cases}\n",
        "    \\frac{a}{s}(\\frac{x}{s})^{-(1+a)}e^{-\\frac{x}{a}^{-a}} & x>0\\\\\n",
        "    0 & x\\leq 0\n",
        "    \\end{cases}\n",
        "\\end{equation}"
      ]
    },
    {
      "cell_type": "code",
      "execution_count": null,
      "id": "e39f963a",
      "metadata": {
        "id": "e39f963a",
        "outputId": "6395e0a5-adf4-40f1-ee25-fe07e2ae2ffa"
      },
      "outputs": [
        {
          "name": "stdout",
          "output_type": "stream",
          "text": [
            "200\n",
            "1\n",
            "1\n"
          ]
        },
        {
          "ename": "AttributeError",
          "evalue": "module 'matplotlib.pyplot' has no attribute 'x_limit'",
          "output_type": "error",
          "traceback": [
            "\u001b[1;31m---------------------------------------------------------------------------\u001b[0m",
            "\u001b[1;31mAttributeError\u001b[0m                            Traceback (most recent call last)",
            "Input \u001b[1;32mIn [62]\u001b[0m, in \u001b[0;36m<cell line: 20>\u001b[1;34m()\u001b[0m\n\u001b[0;32m     18\u001b[0m an\u001b[38;5;241m=\u001b[39mnumpy\u001b[38;5;241m.\u001b[39marray([kde(x,ans) \u001b[38;5;28;01mfor\u001b[39;00m x \u001b[38;5;129;01min\u001b[39;00m ans])\n\u001b[0;32m     19\u001b[0m pyplot\u001b[38;5;241m.\u001b[39mplot(ans,an)\n\u001b[1;32m---> 20\u001b[0m \u001b[43mpyplot\u001b[49m\u001b[38;5;241;43m.\u001b[39;49m\u001b[43mx_limit\u001b[49m(\u001b[38;5;241m-\u001b[39m\u001b[38;5;241m1\u001b[39m,\u001b[38;5;241m10\u001b[39m)\n\u001b[0;32m     21\u001b[0m pyplot\u001b[38;5;241m.\u001b[39mshow()\n",
            "\u001b[1;31mAttributeError\u001b[0m: module 'matplotlib.pyplot' has no attribute 'x_limit'"
          ]
        },
        {
          "data": {
            "image/png": "[encoded data removed]",
            "text/plain": [
              "<Figure size 432x288 with 1 Axes>"
            ]
          },
          "metadata": {
            "needs_background": "light"
          },
          "output_type": "display_data"
        }
      ],
      "source": [
        "import numpy,seaborn\n",
        "from math import log\n",
        "from matplotlib import pyplot\n",
        "from scipy.stats import norm\n",
        "n,a,s=int(input()),float(input()),float(input())\n",
        "assert a>0\n",
        "arr=numpy.random.uniform(low=-0.5,high=1,size=n)\n",
        "def frechet_cdf_inverse(x,a,s):\n",
        "    return s*(-log(x))**(-1/a) if x>0 else 0\n",
        "def frechet(x,a,s):\n",
        "    return (a/s) * ((x/s)**(-1-a)) * numpy.exp(- (x/s)**(-a) ) if x>0 else 0\n",
        "frech,frechet1=numpy.vectorize(frechet_cdf_inverse),numpy.vectorize(frechet)\n",
        "ans=sorted(numpy.array([frechet_cdf_inverse(entry,a,s) for entry in arr]))\n",
        "x=numpy.linspace(0,4,10**5)\n",
        "y=frechet1(x,a,s)\n",
        "def kde(x,x_list):\n",
        "    return sum([norm.pdf(x,en,0.1) for en in x_list])/len(x_list)\n",
        "an=numpy.array([kde(x,ans) for x in ans])\n",
        "pyplot.plot(ans,an)\n",
        "pyplot.x_limit(-1,10)\n",
        "pyplot.show()"
      ]
    },
    {
      "cell_type": "markdown",
      "id": "66d33a09",
      "metadata": {
        "id": "66d33a09"
      },
      "source": [
        "# Question 2"
      ]
    },
    {
      "cell_type": "code",
      "execution_count": null,
      "id": "ac6b2d2f",
      "metadata": {
        "id": "ac6b2d2f",
        "outputId": "9a905e94-8fba-452d-ced7-96026c45e4f2"
      },
      "outputs": [
        {
          "name": "stdout",
          "output_type": "stream",
          "text": [
            "155.57467622491652\n"
          ]
        }
      ],
      "source": [
        "from math import log\n",
        "from scipy.stats import norm,expon\n",
        "import numpy\n",
        "\n",
        "def cross_entropy(x,P,Q):\n",
        "    return numpy.array(sum([-P(y)*log(Q(y)) for y in x]))\n",
        "\n",
        "def mutual_information(joint,marg_x,marg_y,X,Y):\n",
        "    return sum([sum([joint(x,y)*log(joint(x,y)/marg_x(x)*marg_y(y)) for x in X]) for y in Y])\n",
        "\n",
        "def conditional_entropy(joint,marg_x,X,Y):\n",
        "    return sum([sum([joint(x,y)*log(joint(x,y)/marg_x(x)) for x in X]) for y in Y])\n",
        "\n",
        "def kl_divergence(x,P,Q):\n",
        "    return cross_entropy(x,P,Q)-cross_entropy(x,P,P)"
      ]
    },
    {
      "cell_type": "markdown",
      "id": "be933ac0",
      "metadata": {
        "id": "be933ac0"
      },
      "source": [
        "# Question 6\n",
        "\n",
        "we will take function \n",
        "\\begin{equation}\n",
        "  X \\sim 0.7\\mathcal{N}(-3,1)+0.3\\mathcal{N}(3,1)\n",
        "\\end{equation}\n",
        "\n",
        "Let the most optimum normal function be $\\mathcal{N}(\\mu,\\sigma^{2})$ \\\\\n",
        "\n",
        "Therefore, the forward KL divergence is given by:\n",
        "\n",
        "\\begin{equation}\n",
        "  KL(P||Q)=E_{p}[log\\frac{p}{q}]\n",
        "\\end{equation}\n",
        "\n",
        "\\begin{equation}\n",
        "  \\arg \\min_{\\mu,\\sigma}KL(P||Q)= \\arg \\min_{\\mu,\\sigma}E_{p}[log\\frac{p}{q}]\n",
        "\\end{equation}\n",
        "\n",
        "Using Monte Carlo estimate:\n",
        "\n",
        "\\begin{equation}\n",
        "  \\arg \\min_{\\mu,\\sigma}KL(P||Q)= \\arg\\min_{\\mu,\\sigma}\\frac{1}{N}\\sum_{i=1}^{N}log\\frac{p(x_{i})}{q(x_{i})}\n",
        "\\end{equation}\n",
        "\n",
        "\\begin{equation}\n",
        "  =\\arg\\min_{\\mu,\\sigma}-\\frac{1}{N}\\sum_{i=1}^{N}log(q(x_{i}))\n",
        "\\end{equation}\n",
        "\n",
        "Where $x_{i}$ are samples drawn from $P$\n",
        "\n",
        "Similarly,:\n",
        "\n",
        "\\begin{equation}\n",
        "  \\arg\\min_{\\mu,\\sigma}=\\frac{-1}{N}\\sum_{i=1}^{N}\n",
        "\\end{equation}"
      ]
    },
    {
      "cell_type": "code",
      "execution_count": 47,
      "id": "b7b71299",
      "metadata": {
        "colab": {
          "base_uri": "https://localhost:8080/",
          "height": 828
        },
        "id": "b7b71299",
        "outputId": "4ffbe89e-3c51-46da-aa4b-b1de8487349a"
      },
      "outputs": [
        {
          "output_type": "stream",
          "name": "stdout",
          "text": [
            "30\n",
            "[5. 2.]\n",
            "[4.873462 2.339001]\n",
            "[4.7857666 2.5167272]\n",
            "[4.706353  2.6710963]\n",
            "[4.639028  2.7826765]\n",
            "[4.5782704 2.875232 ]\n",
            "[4.520532  2.9583874]\n",
            "[4.467072  3.0311882]\n",
            "[4.417452  3.0926461]\n",
            "[4.369662  3.1488311]\n",
            "[4.325647 3.19504 ]\n",
            "[4.284129  3.2353635]\n",
            "[4.2436934 3.2744727]\n",
            "[4.204146 3.311803]\n",
            "[4.166918  3.3424535]\n",
            "[4.128516 3.377959]\n",
            "[4.0914726 3.4089475]\n",
            "[4.0549374 3.4386172]\n",
            "[4.0203166 3.4645   ]\n",
            "[3.985057 3.491926]\n",
            "[3.9515605 3.5155058]\n",
            "[3.9190671 3.5362315]\n",
            "[3.8870127 3.5567417]\n",
            "[3.8552568 3.575956 ]\n",
            "[3.824242  3.5937762]\n",
            "[3.795023  3.6084323]\n",
            "[3.765478  3.6241012]\n",
            "[3.7349937 3.6416283]\n",
            "[3.7057757 3.656787 ]\n",
            "[3.6769712 3.6713347]\n"
          ]
        },
        {
          "output_type": "display_data",
          "data": {
            "text/plain": [
              "<Figure size 432x288 with 1 Axes>"
            ],
            "image/png": "[encoded data removed]"
          },
          "metadata": {
            "needs_background": "light"
          }
        }
      ],
      "source": [
        "from scipy.stats import norm\n",
        "import numpy\n",
        "from matplotlib import pyplot\n",
        "from math import log\n",
        "import jax.numpy as jnp\n",
        "from jax import grad\n",
        "from jax.scipy.stats import norm as normal\n",
        "\n",
        "def metropolis_hastings_sampling(pdf,n):\n",
        "  i=0\n",
        "  arr=jnp.zeros(n)\n",
        "  arr=arr.at[0].set(1)\n",
        "  for i in range(1,n,1):\n",
        "    sample=numpy.random.normal(loc=arr[i-1],scale=3,size=None)\n",
        "    a=numpy.random.uniform(low=0,high=1,size=None)\n",
        "    arr=arr.at[i].set(sample*(a<pdf(sample)/pdf(arr[i-1]))+arr[i]*(a>pdf(sample)/pdf(arr[i-1])))\n",
        "  return jnp.array(arr,float)\n",
        "\n",
        "def func(x):\n",
        "  return jnp.array(0.7*normal.pdf(x,loc=-3,scale=1)+0.3*normal.pdf(x,loc=3,scale=1),float)\n",
        "\n",
        "def kl_divergence(var):\n",
        "  mean=var[0]\n",
        "  sd=var[1]\n",
        "  n=1000\n",
        "  samples=metropolis_hastings_sampling(func,n)\n",
        "  logarithm=jnp.vectorize(log)\n",
        "  function=jnp.vectorize((func))\n",
        "  #print(logarithm(function(samples)/normal.pdf(samples,loc=mean,scale=sd)))\n",
        "  arr=jnp.sum(jnp.array([-normal.logpdf(sample,loc=mean,scale=sd) for sample in samples],float))/1000\n",
        "  return arr\n",
        "  #return jnp.array(jnp.sum(logarithm(function(samples)/normal.pdf(samples,loc=mean,scale=sd))),float)\n",
        "\n",
        "learning_rate=0.1\n",
        "mu,sigma,iter=5.,2.,int(input())\n",
        "grad_kl=grad(kl_divergence)\n",
        "init=numpy.array([mu,sigma])\n",
        "\n",
        "for i in range(iter):\n",
        "  print(init)\n",
        "  init-=learning_rate*grad_kl(init)\n",
        "\n",
        "x=numpy.linspace(-10,10,10000)\n",
        "y=norm.pdf(x,init[0],init[1])\n",
        "y_prime=func(x)\n",
        "pyplot.plot(x,y)\n",
        "pyplot.plot(x,y_prime)\n",
        "pyplot.show()"
      ]
    },
    {
      "cell_type": "markdown",
      "id": "9a0d6dda",
      "metadata": {
        "id": "9a0d6dda"
      },
      "source": [
        "# Question 7"
      ]
    },
    {
      "cell_type": "markdown",
      "id": "4595b974",
      "metadata": {
        "id": "4595b974"
      },
      "source": [
        "Let $\\theta$ denote the probability of heads occuring by the coin\\\n",
        "\n",
        "Therefore, the pdf of $p$ is given by:\n",
        "\n",
        "\\begin{equation}\n",
        "    p(\\theta)=ab\\theta^{a-1}(1-\\theta^{a})^{b-1}\n",
        "\\end{equation}\n",
        "\n",
        "\\begin{equation}\n",
        "    p(\\theta)=6\\theta(1-\\theta^{2})^{2}\n",
        "\\end{equation}\n",
        "\n",
        "After our experiment which yeilds 8 heads and 2 tails, let the posterior distribution have pdf denoted by $p(\\theta|x)$. Therefore, Baye's theorem gives us:\n",
        "\n",
        "\\begin{equation}\n",
        "    p(\\theta|x)p(x)=p(x|\\theta)p(\\theta)\n",
        "\\end{equation}\n",
        "\n",
        "Therefore,\n",
        "\n",
        "\\begin{equation}\n",
        "    p(\\theta|x)p(x)=\\theta^{8}(1-\\theta)^{2}6\\theta(1-\\theta^{2})^{2}\n",
        "\\end{equation}\n",
        "\n",
        "\\begin{equation}\n",
        "    p(\\theta|x)p(x)=6\\theta^{9}(1-\\theta)^{4}(1+\\theta)^{2}\n",
        "\\end{equation}\n",
        "\n",
        "$p(x)$ is given by:\n",
        "\n",
        "\\begin{equation}\n",
        "    p(x)=\\int_{0}^{1}p(x|\\theta)p(\\theta)d\\theta\n",
        "\\end{equation}\n",
        "\n",
        "\\begin{equation}\n",
        "    p(x)=6\\int_{0}^{1}\\theta^{9}(1-\\theta)^{4}(1+\\theta)^{2}d\\theta\n",
        "\\end{equation}\n",
        "\n",
        "\\begin{equation}\n",
        "    p(x)=6\\int_{0}^{1}(\\theta^{15}-2\\theta^{14}-\\theta^{13}+12\\theta^{12}-\\theta^{11}-2\\theta^{10}+\\theta^{9})dx\n",
        "\\end{equation}\n",
        "\n",
        "\\begin{equation}\n",
        "    p(x)=6(\\frac{1}{16}-\\frac{2}{15}-\\frac{1}{14}+\\frac{4}{13}-\\frac{1}{12}-\\frac{2}{11}+\\frac{1}{10})\n",
        "\\end{equation}\n",
        "\n",
        "\\begin{equation}\n",
        "    p(x)=\\frac{67}{40040}\n",
        "\\end{equation}\n",
        "\n",
        "Therefore,\n",
        "\n",
        "\\begin{equation}\n",
        "    p(\\theta|x)=\\frac{240240}{67}\\theta^{9}(1-\\theta)^{4}(1+\\theta)^{2}\n",
        "\\end{equation}"
      ]
    },
    {
      "cell_type": "code",
      "execution_count": null,
      "id": "75702deb",
      "metadata": {
        "id": "75702deb",
        "outputId": "636c1887-5ac8-4b63-85e0-8b4b52c06876"
      },
      "outputs": [
        {
          "name": "stdout",
          "output_type": "stream",
          "text": [
            "67/40040\n"
          ]
        }
      ],
      "source": [
        "from fractions import Fraction\n",
        "a=Fraction(1,16)-Fraction(2,15)-Fraction(1,14)+Fraction(4,13)-Fraction(1,12)-Fraction(2,11)+Fraction(1,10)\n",
        "print(6*a)"
      ]
    },
    {
      "cell_type": "code",
      "execution_count": null,
      "id": "ef5c1180",
      "metadata": {
        "colab": {
          "base_uri": "https://localhost:8080/"
        },
        "id": "ef5c1180",
        "outputId": "7e74995d-7831-408b-c4fe-652169e48396"
      },
      "outputs": [
        {
          "output_type": "stream",
          "name": "stdout",
          "text": [
            "Looking in indexes: https://pypi.org/simple, https://us-python.pkg.dev/colab-wheels/public/simple/\n",
            "Requirement already satisfied: pip in /usr/local/lib/python3.8/dist-packages (22.0.4)\n",
            "Collecting pip\n",
            "  Downloading pip-23.0.1-py3-none-any.whl (2.1 MB)\n",
            "\u001b[2K     \u001b[90m━━━━━━━━━━━━━━━━━━━━━━━━━━━━━━━━━━━━━━━━\u001b[0m \u001b[32m2.1/2.1 MB\u001b[0m \u001b[31m24.4 MB/s\u001b[0m eta \u001b[36m0:00:00\u001b[0m\n",
            "\u001b[?25hInstalling collected packages: pip\n",
            "\u001b[33m  WARNING: The scripts pip, pip3 and pip3.8 are installed in '/root/.local/bin' which is not on PATH.\n",
            "  Consider adding this directory to PATH or, if you prefer to suppress this warning, use --no-warn-script-location.\u001b[0m\u001b[33m\n",
            "\u001b[0mSuccessfully installed pip-23.0.1\n"
          ]
        }
      ],
      "source": [
        "!python -m pip install --upgrade --user pip"
      ]
    },
    {
      "cell_type": "code",
      "execution_count": null,
      "id": "615b17aa",
      "metadata": {
        "colab": {
          "base_uri": "https://localhost:8080/"
        },
        "id": "615b17aa",
        "outputId": "5fb5eef8-ff1b-4148-dcf2-fc8b9e1087b1"
      },
      "outputs": [
        {
          "output_type": "stream",
          "name": "stdout",
          "text": [
            "Looking in indexes: https://pypi.org/simple, https://us-python.pkg.dev/colab-wheels/public/simple/\n",
            "Requirement already satisfied: tensorflow in /usr/local/lib/python3.8/dist-packages (2.11.0)\n",
            "Requirement already satisfied: tensorflow_probability in /usr/local/lib/python3.8/dist-packages (0.19.0)\n",
            "Requirement already satisfied: wrapt>=1.11.0 in /usr/local/lib/python3.8/dist-packages (from tensorflow) (1.15.0)\n",
            "Requirement already satisfied: opt-einsum>=2.3.2 in /usr/local/lib/python3.8/dist-packages (from tensorflow) (3.3.0)\n",
            "Requirement already satisfied: packaging in /usr/local/lib/python3.8/dist-packages (from tensorflow) (23.0)\n",
            "Requirement already satisfied: typing-extensions>=3.6.6 in /usr/local/lib/python3.8/dist-packages (from tensorflow) (4.5.0)\n",
            "Requirement already satisfied: termcolor>=1.1.0 in /usr/local/lib/python3.8/dist-packages (from tensorflow) (2.2.0)\n",
            "Requirement already satisfied: setuptools in /usr/local/lib/python3.8/dist-packages (from tensorflow) (57.4.0)\n",
            "Requirement already satisfied: protobuf<3.20,>=3.9.2 in /usr/local/lib/python3.8/dist-packages (from tensorflow) (3.19.6)\n",
            "Requirement already satisfied: tensorboard<2.12,>=2.11 in /usr/local/lib/python3.8/dist-packages (from tensorflow) (2.11.2)\n",
            "Requirement already satisfied: tensorflow-io-gcs-filesystem>=0.23.1 in /usr/local/lib/python3.8/dist-packages (from tensorflow) (0.31.0)\n",
            "Requirement already satisfied: google-pasta>=0.1.1 in /usr/local/lib/python3.8/dist-packages (from tensorflow) (0.2.0)\n",
            "Requirement already satisfied: gast<=0.4.0,>=0.2.1 in /usr/local/lib/python3.8/dist-packages (from tensorflow) (0.4.0)\n",
            "Requirement already satisfied: keras<2.12,>=2.11.0 in /usr/local/lib/python3.8/dist-packages (from tensorflow) (2.11.0)\n",
            "Requirement already satisfied: six>=1.12.0 in /usr/local/lib/python3.8/dist-packages (from tensorflow) (1.15.0)\n",
            "Requirement already satisfied: flatbuffers>=2.0 in /usr/local/lib/python3.8/dist-packages (from tensorflow) (23.1.21)\n",
            "Requirement already satisfied: grpcio<2.0,>=1.24.3 in /usr/local/lib/python3.8/dist-packages (from tensorflow) (1.51.3)\n",
            "Requirement already satisfied: libclang>=13.0.0 in /usr/local/lib/python3.8/dist-packages (from tensorflow) (15.0.6.1)\n",
            "Requirement already satisfied: numpy>=1.20 in /usr/local/lib/python3.8/dist-packages (from tensorflow) (1.22.4)\n",
            "Requirement already satisfied: astunparse>=1.6.0 in /usr/local/lib/python3.8/dist-packages (from tensorflow) (1.6.3)\n",
            "Requirement already satisfied: tensorflow-estimator<2.12,>=2.11.0 in /usr/local/lib/python3.8/dist-packages (from tensorflow) (2.11.0)\n",
            "Requirement already satisfied: h5py>=2.9.0 in /usr/local/lib/python3.8/dist-packages (from tensorflow) (3.1.0)\n",
            "Requirement already satisfied: absl-py>=1.0.0 in /usr/local/lib/python3.8/dist-packages (from tensorflow) (1.4.0)\n",
            "Requirement already satisfied: decorator in /usr/local/lib/python3.8/dist-packages (from tensorflow_probability) (4.4.2)\n",
            "Requirement already satisfied: dm-tree in /usr/local/lib/python3.8/dist-packages (from tensorflow_probability) (0.1.8)\n",
            "Requirement already satisfied: cloudpickle>=1.3 in /usr/local/lib/python3.8/dist-packages (from tensorflow_probability) (2.2.1)\n",
            "Requirement already satisfied: wheel<1.0,>=0.23.0 in /usr/local/lib/python3.8/dist-packages (from astunparse>=1.6.0->tensorflow) (0.38.4)\n",
            "Requirement already satisfied: tensorboard-data-server<0.7.0,>=0.6.0 in /usr/local/lib/python3.8/dist-packages (from tensorboard<2.12,>=2.11->tensorflow) (0.6.1)\n",
            "Requirement already satisfied: google-auth<3,>=1.6.3 in /usr/local/lib/python3.8/dist-packages (from tensorboard<2.12,>=2.11->tensorflow) (2.16.1)\n",
            "Requirement already satisfied: werkzeug>=1.0.1 in /usr/local/lib/python3.8/dist-packages (from tensorboard<2.12,>=2.11->tensorflow) (2.2.3)\n",
            "Requirement already satisfied: google-auth-oauthlib<0.5,>=0.4.1 in /usr/local/lib/python3.8/dist-packages (from tensorboard<2.12,>=2.11->tensorflow) (0.4.6)\n",
            "Requirement already satisfied: tensorboard-plugin-wit>=1.6.0 in /usr/local/lib/python3.8/dist-packages (from tensorboard<2.12,>=2.11->tensorflow) (1.8.1)\n",
            "Requirement already satisfied: requests<3,>=2.21.0 in /usr/local/lib/python3.8/dist-packages (from tensorboard<2.12,>=2.11->tensorflow) (2.25.1)\n",
            "Requirement already satisfied: markdown>=2.6.8 in /usr/local/lib/python3.8/dist-packages (from tensorboard<2.12,>=2.11->tensorflow) (3.4.1)\n",
            "Requirement already satisfied: rsa<5,>=3.1.4 in /usr/local/lib/python3.8/dist-packages (from google-auth<3,>=1.6.3->tensorboard<2.12,>=2.11->tensorflow) (4.9)\n",
            "Requirement already satisfied: cachetools<6.0,>=2.0.0 in /usr/local/lib/python3.8/dist-packages (from google-auth<3,>=1.6.3->tensorboard<2.12,>=2.11->tensorflow) (5.3.0)\n",
            "Requirement already satisfied: pyasn1-modules>=0.2.1 in /usr/local/lib/python3.8/dist-packages (from google-auth<3,>=1.6.3->tensorboard<2.12,>=2.11->tensorflow) (0.2.8)\n",
            "Requirement already satisfied: requests-oauthlib>=0.7.0 in /usr/local/lib/python3.8/dist-packages (from google-auth-oauthlib<0.5,>=0.4.1->tensorboard<2.12,>=2.11->tensorflow) (1.3.1)\n",
            "Requirement already satisfied: importlib-metadata>=4.4 in /usr/local/lib/python3.8/dist-packages (from markdown>=2.6.8->tensorboard<2.12,>=2.11->tensorflow) (6.0.0)\n",
            "Requirement already satisfied: certifi>=2017.4.17 in /usr/local/lib/python3.8/dist-packages (from requests<3,>=2.21.0->tensorboard<2.12,>=2.11->tensorflow) (2022.12.7)\n",
            "Requirement already satisfied: urllib3<1.27,>=1.21.1 in /usr/local/lib/python3.8/dist-packages (from requests<3,>=2.21.0->tensorboard<2.12,>=2.11->tensorflow) (1.26.14)\n",
            "Requirement already satisfied: chardet<5,>=3.0.2 in /usr/local/lib/python3.8/dist-packages (from requests<3,>=2.21.0->tensorboard<2.12,>=2.11->tensorflow) (4.0.0)\n",
            "Requirement already satisfied: idna<3,>=2.5 in /usr/local/lib/python3.8/dist-packages (from requests<3,>=2.21.0->tensorboard<2.12,>=2.11->tensorflow) (2.10)\n",
            "Requirement already satisfied: MarkupSafe>=2.1.1 in /usr/local/lib/python3.8/dist-packages (from werkzeug>=1.0.1->tensorboard<2.12,>=2.11->tensorflow) (2.1.2)\n",
            "Requirement already satisfied: zipp>=0.5 in /usr/local/lib/python3.8/dist-packages (from importlib-metadata>=4.4->markdown>=2.6.8->tensorboard<2.12,>=2.11->tensorflow) (3.15.0)\n",
            "Requirement already satisfied: pyasn1<0.5.0,>=0.4.6 in /usr/local/lib/python3.8/dist-packages (from pyasn1-modules>=0.2.1->google-auth<3,>=1.6.3->tensorboard<2.12,>=2.11->tensorflow) (0.4.8)\n",
            "Requirement already satisfied: oauthlib>=3.0.0 in /usr/local/lib/python3.8/dist-packages (from requests-oauthlib>=0.7.0->google-auth-oauthlib<0.5,>=0.4.1->tensorboard<2.12,>=2.11->tensorflow) (3.2.2)\n",
            "\u001b[33mWARNING: Running pip as the 'root' user can result in broken permissions and conflicting behaviour with the system package manager. It is recommended to use a virtual environment instead: https://pip.pypa.io/warnings/venv\u001b[0m\u001b[33m\n",
            "\u001b[0m"
          ]
        }
      ],
      "source": [
        "!python -m pip install --upgrade --user tensorflow tensorflow_probability"
      ]
    },
    {
      "cell_type": "code",
      "source": [],
      "metadata": {
        "id": "JtaDwnNTB8gO",
        "colab": {
          "base_uri": "https://localhost:8080/"
        },
        "outputId": "887a41fb-c4da-4f18-e0a2-f4946459769f"
      },
      "id": "JtaDwnNTB8gO",
      "execution_count": 43,
      "outputs": [
        {
          "output_type": "stream",
          "name": "stdout",
          "text": [
            "0.0\n"
          ]
        }
      ]
    },
    {
      "cell_type": "code",
      "source": [],
      "metadata": {
        "id": "xBE0TMKcJhhw"
      },
      "id": "xBE0TMKcJhhw",
      "execution_count": null,
      "outputs": []
    }
  ],
  "metadata": {
    "kernelspec": {
      "display_name": "Python 3 (ipykernel)",
      "language": "python",
      "name": "python3"
    },
    "language_info": {
      "codemirror_mode": {
        "name": "ipython",
        "version": 3
      },
      "file_extension": ".py",
      "mimetype": "text/x-python",
      "name": "python",
      "nbconvert_exporter": "python",
      "pygments_lexer": "ipython3",
      "version": "3.9.12"
    },
    "colab": {
      "provenance": []
    }
  },
  "nbformat": 4,
  "nbformat_minor": 5
}